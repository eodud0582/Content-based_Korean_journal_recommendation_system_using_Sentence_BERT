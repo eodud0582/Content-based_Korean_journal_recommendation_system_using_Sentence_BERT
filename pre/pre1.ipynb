{
 "cells": [
  {
   "cell_type": "code",
   "execution_count": 12,
   "id": "8e23e0c3-9e7e-4f2c-b537-a3edd6d96b4a",
   "metadata": {},
   "outputs": [
    {
     "name": "stdout",
     "output_type": "stream",
     "text": [
      "# Fonts found\n",
      "Hiragino Maru Gothic Pro /System/Library/Fonts/ヒラギノ丸ゴ ProN W4.ttc\n",
      "Noto Sans Gothic /System/Library/Fonts/Supplemental/NotoSansGothic-Regular.ttf\n",
      "Apple SD Gothic Neo /System/Library/Fonts/AppleSDGothicNeo.ttc\n",
      "AppleGothic /System/Library/Fonts/Supplemental/AppleGothic.ttf\n",
      "# Setting Korean\n",
      "=> AppleGothic set\n",
      "\n",
      "# Compledted importing and setting\n"
     ]
    }
   ],
   "source": [
    "# setting path\n",
    "import sys\n",
    "sys.path.append('..')\n",
    "\n",
    "from common import *\n",
    "from my import *\n",
    "\n",
    "%matplotlib inline\n",
    "%config InlineBackend.figure_format='retina'"
   ]
  },
  {
   "cell_type": "code",
   "execution_count": 13,
   "id": "97df658b",
   "metadata": {},
   "outputs": [],
   "source": [
    "import pandas as pd\n",
    "import json\n",
    "import glob\n",
    "from tqdm import tqdm\n",
    "#from multiprocessing import Pool\n",
    "#import dask.bag as db"
   ]
  },
  {
   "cell_type": "code",
   "execution_count": 12,
   "id": "441c6bf1",
   "metadata": {},
   "outputs": [],
   "source": [
    "wd = 'C:\\\\jdata'"
   ]
  },
  {
   "cell_type": "code",
   "execution_count": 13,
   "id": "b4e073fd",
   "metadata": {},
   "outputs": [
    {
     "data": {
      "text/plain": [
       "'C:\\\\jdata/*/대한산업공학회지/*/*.json'"
      ]
     },
     "execution_count": 13,
     "metadata": {},
     "output_type": "execute_result"
    }
   ],
   "source": [
    "wd+\"/*/대한산업공학회지/*/*.json\""
   ]
  },
  {
   "cell_type": "code",
   "execution_count": 14,
   "id": "e8e60e6e",
   "metadata": {},
   "outputs": [],
   "source": [
    "flist=glob.glob(wd+\"/*/*/*/*.json\")"
   ]
  },
  {
   "cell_type": "code",
   "execution_count": 15,
   "id": "7e02b1f0",
   "metadata": {},
   "outputs": [
    {
     "data": {
      "text/plain": [
       "['C:\\\\jdata\\\\(분류) 국내 논문 전문 텍스트 데이터셋\\\\CRM연구\\\\2006\\\\JAKO200622234005936.json',\n",
       " 'C:\\\\jdata\\\\(분류) 국내 논문 전문 텍스트 데이터셋\\\\CRM연구\\\\2006\\\\JAKO200622234005941.json',\n",
       " 'C:\\\\jdata\\\\(분류) 국내 논문 전문 텍스트 데이터셋\\\\CRM연구\\\\2006\\\\JAKO200622234005947.json',\n",
       " 'C:\\\\jdata\\\\(분류) 국내 논문 전문 텍스트 데이터셋\\\\CRM연구\\\\2006\\\\JAKO200622234005952.json',\n",
       " 'C:\\\\jdata\\\\(분류) 국내 논문 전문 텍스트 데이터셋\\\\CRM연구\\\\2006\\\\JAKO200622234005957.json']"
      ]
     },
     "execution_count": 15,
     "metadata": {},
     "output_type": "execute_result"
    }
   ],
   "source": [
    "flist[:5]"
   ]
  },
  {
   "cell_type": "markdown",
   "id": "75b1257a",
   "metadata": {},
   "source": [
    "## json 추출"
   ]
  },
  {
   "cell_type": "code",
   "execution_count": 16,
   "id": "341a2bc8",
   "metadata": {},
   "outputs": [
    {
     "name": "stderr",
     "output_type": "stream",
     "text": [
      "100%|██████████████████████████████████████████████████████████████████████| 481578/481578 [1:02:38<00:00, 128.14it/s]\n"
     ]
    }
   ],
   "source": [
    "ko_title=[]\n",
    "ko_abstract=[]\n",
    "doc_id =[]\n",
    "ko_journal=[]\n",
    "keywords=[]\n",
    "\n",
    "for i in  tqdm( range(0,len(flist))) :\n",
    "    with open(flist[i], encoding='utf-8') as file:\n",
    "        temp=json.load(file)\n",
    "        \n",
    "        try:\n",
    "            ko_title.append(temp['title']['ko'])\n",
    "        except:\n",
    "            ko_title.append(None)\n",
    "        \n",
    "        try:\n",
    "            ko_abstract.append(temp['abstract']['ko'])\n",
    "        except:\n",
    "            ko_abstract.append(None)\n",
    "        \n",
    "        try:\n",
    "            doc_id.append(temp['doc_id'])\n",
    "        except:\n",
    "            doc_id.append(None)\n",
    "        \n",
    "        try:\n",
    "            ko_journal.append(temp['journal']['ko'])\n",
    "        except:\n",
    "            try:\n",
    "                ko_journal.append(temp['journal']['en'])\n",
    "            except:\n",
    "                ko_journal.append(None)\n",
    "            \n",
    "                    \n",
    "        try:\n",
    "            keywords.append(temp['keywords']['ko'])\n",
    "        except:\n",
    "            keywords.append(None)"
   ]
  },
  {
   "cell_type": "code",
   "execution_count": 17,
   "id": "0c1330af",
   "metadata": {},
   "outputs": [
    {
     "data": {
      "text/html": [
       "<div>\n",
       "<style scoped>\n",
       "    .dataframe tbody tr th:only-of-type {\n",
       "        vertical-align: middle;\n",
       "    }\n",
       "\n",
       "    .dataframe tbody tr th {\n",
       "        vertical-align: top;\n",
       "    }\n",
       "\n",
       "    .dataframe thead th {\n",
       "        text-align: right;\n",
       "    }\n",
       "</style>\n",
       "<table border=\"1\" class=\"dataframe\">\n",
       "  <thead>\n",
       "    <tr style=\"text-align: right;\">\n",
       "      <th></th>\n",
       "      <th>title</th>\n",
       "      <th>abstract</th>\n",
       "      <th>keywords</th>\n",
       "      <th>journal</th>\n",
       "    </tr>\n",
       "  </thead>\n",
       "  <tbody>\n",
       "    <tr>\n",
       "      <th>JAKO201505040785305</th>\n",
       "      <td>Post-2020의 MRV 체계 수립을 위한 우리나라 대응 방향</td>\n",
       "      <td>Post-2020 합의를 위해 주요 이슈로 부상하는 MRV(Measurement, ...</td>\n",
       "      <td>투명성;측정.보고.검증;통합 MRV 체계;신기후체제;대응 전략;</td>\n",
       "      <td>환경정책연구</td>\n",
       "    </tr>\n",
       "    <tr>\n",
       "      <th>JAKO201505040785307</th>\n",
       "      <td>자동차 시장구조에 따른 저탄소차협력금제도의 효과 변화</td>\n",
       "      <td>저탄소차협력금제도는 중대형차 위주의 국내 승용차 시장에서 소형차의 점유율을 제고하고...</td>\n",
       "      <td>저탄소차협력금;보너스;부담금;온실가스;자동차;</td>\n",
       "      <td>환경정책연구</td>\n",
       "    </tr>\n",
       "    <tr>\n",
       "      <th>JAKO201505040785309</th>\n",
       "      <td>낙동강 유역의 친환경 하천 준설을 위한 환경창 수립 방안</td>\n",
       "      <td>국내의 하천 환경은 4대강 사업 이후로 많은 변화가 예상되며, 이 과정에서 하천관리...</td>\n",
       "      <td>하천준설;환경준설;환경창;준설시기;준설기간;</td>\n",
       "      <td>환경정책연구</td>\n",
       "    </tr>\n",
       "    <tr>\n",
       "      <th>JAKO201505040785312</th>\n",
       "      <td>쿠르노 경쟁하의 배출권 이월 및 차입과 감축기술개발투자</td>\n",
       "      <td>배출권 이월 및 차입은 감축기술개발투자에 영향을 미칠 수 있다. 배출권거래제하에서 ...</td>\n",
       "      <td>쿠르노 경쟁모델;불완전경쟁;기술개발;배출권거래제;경제학문헌목록 주제분류 : L13,...</td>\n",
       "      <td>환경정책연구</td>\n",
       "    </tr>\n",
       "    <tr>\n",
       "      <th>JAKO201505040785314</th>\n",
       "      <td>지리정보를 활용한 한국의 지질유산 정보화 구축 및 관리방안 제시</td>\n",
       "      <td>국내외으로 지질유산에 대한 관심과 선정 등이 지속적으로 이루어지고 있다. 그러나 지...</td>\n",
       "      <td>지질다양성;지질보전;지질관광;위치정보;세계자연유산;</td>\n",
       "      <td>환경정책연구</td>\n",
       "    </tr>\n",
       "  </tbody>\n",
       "</table>\n",
       "</div>"
      ],
      "text/plain": [
       "                                                   title  \\\n",
       "JAKO201505040785305  Post-2020의 MRV 체계 수립을 위한 우리나라 대응 방향   \n",
       "JAKO201505040785307        자동차 시장구조에 따른 저탄소차협력금제도의 효과 변화   \n",
       "JAKO201505040785309      낙동강 유역의 친환경 하천 준설을 위한 환경창 수립 방안   \n",
       "JAKO201505040785312       쿠르노 경쟁하의 배출권 이월 및 차입과 감축기술개발투자   \n",
       "JAKO201505040785314  지리정보를 활용한 한국의 지질유산 정보화 구축 및 관리방안 제시   \n",
       "\n",
       "                                                              abstract  \\\n",
       "JAKO201505040785305  Post-2020 합의를 위해 주요 이슈로 부상하는 MRV(Measurement, ...   \n",
       "JAKO201505040785307  저탄소차협력금제도는 중대형차 위주의 국내 승용차 시장에서 소형차의 점유율을 제고하고...   \n",
       "JAKO201505040785309  국내의 하천 환경은 4대강 사업 이후로 많은 변화가 예상되며, 이 과정에서 하천관리...   \n",
       "JAKO201505040785312  배출권 이월 및 차입은 감축기술개발투자에 영향을 미칠 수 있다. 배출권거래제하에서 ...   \n",
       "JAKO201505040785314  국내외으로 지질유산에 대한 관심과 선정 등이 지속적으로 이루어지고 있다. 그러나 지...   \n",
       "\n",
       "                                                              keywords journal  \n",
       "JAKO201505040785305                투명성;측정.보고.검증;통합 MRV 체계;신기후체제;대응 전략;  환경정책연구  \n",
       "JAKO201505040785307                          저탄소차협력금;보너스;부담금;온실가스;자동차;  환경정책연구  \n",
       "JAKO201505040785309                           하천준설;환경준설;환경창;준설시기;준설기간;  환경정책연구  \n",
       "JAKO201505040785312  쿠르노 경쟁모델;불완전경쟁;기술개발;배출권거래제;경제학문헌목록 주제분류 : L13,...  환경정책연구  \n",
       "JAKO201505040785314                       지질다양성;지질보전;지질관광;위치정보;세계자연유산;  환경정책연구  "
      ]
     },
     "execution_count": 17,
     "metadata": {},
     "output_type": "execute_result"
    }
   ],
   "source": [
    "df=pd.DataFrame({\"title\":ko_title, \"abstract\":ko_abstract,\"keywords\":keywords, \"journal\":ko_journal}, index=doc_id)\n",
    "df.to_csv('./data/df.csv')\n",
    "df.tail()"
   ]
  },
  {
   "cell_type": "code",
   "execution_count": 40,
   "id": "e33b19d8",
   "metadata": {},
   "outputs": [
    {
     "data": {
      "text/plain": [
       "(116095, 4)"
      ]
     },
     "execution_count": 40,
     "metadata": {},
     "output_type": "execute_result"
    }
   ],
   "source": [
    "df2 = df.dropna(how='any',axis=0) \n",
    "df2.to_csv('./data/df_complete.csv')\n",
    "df2.shape"
   ]
  },
  {
   "cell_type": "code",
   "execution_count": 44,
   "id": "d8cd10a1",
   "metadata": {
    "scrolled": true
   },
   "outputs": [
    {
     "data": {
      "text/plain": [
       "(207954, 4)"
      ]
     },
     "execution_count": 44,
     "metadata": {},
     "output_type": "execute_result"
    }
   ],
   "source": [
    "idx_nokeyword =df.iloc[:,[0,1,3]].dropna(how='any',axis=0).index\n",
    "df.loc[idx_nokeyword,:].to_csv('./data/df_nokeywords.csv')\n",
    "df.loc[idx_nokeyword,:].shape"
   ]
  },
  {
   "cell_type": "code",
   "execution_count": null,
   "id": "b197a668",
   "metadata": {},
   "outputs": [],
   "source": []
  },
  {
   "cell_type": "markdown",
   "id": "af117a10",
   "metadata": {},
   "source": [
    "## test"
   ]
  },
  {
   "cell_type": "code",
   "execution_count": 7,
   "id": "535c6b14",
   "metadata": {},
   "outputs": [],
   "source": [
    "with open(\"C:\\\\jdata\\\\(분류) 국내 논문 전문 텍스트 데이터셋\\\\None\\\\1999\\\\JAKO199920567714903.json\", encoding='utf-8') as file:\n",
    "    temp=json.load(file)"
   ]
  },
  {
   "cell_type": "code",
   "execution_count": 8,
   "id": "84598c5e",
   "metadata": {},
   "outputs": [
    {
     "data": {
      "text/plain": [
       "{'doc_id': 'JAKO199920567714903',\n",
       " 'title': {'ko': '향로봉지역(香爐峰地域)의 식물상(植物相) 연구(硏究)',\n",
       "  'en': 'A Study on the Flora Mt. Hyangro-Bong'},\n",
       " 'authors': '박완근;유석인;박광서',\n",
       " 'journal': {'en': 'Journal of Forest and Environmental Science'},\n",
       " 'year': '1999',\n",
       " 'abstract': {'ko': '향로봉(香爐峰)지역을 대상으로 식물상(植物相)을 조사한 결과, 관속식물(管束植物)은 86과(科) 254속(屬) 393종(種) 2아종(亞種) 48변종(變種) 4품종(品種)으로 총 450종류(種類)가 분포하는 것으로 나타났다. 이 가운데 한국특산식물(韓國特塵植物)은 지리대사초, 키버들, 누른종덩굴, 진범, 금강제비꽃, 산오이풀, 노랑갈퀴, 금마타리, 금강초롱꽃, 흰금강초롱꽃, 각시서덜취 등 23종류(種類), 희귀(稀貴) 및 멸종위기식물(滅種危機植物)은 진부애기나리, 말나리, 연령초, 천마, 누른종덩굴, 도깨비부채, 붉은인가목, 금강제비꽃, 꽃개회나무, 금강초롱꽃 등 17종류(種類)가 분포하고 있었으며, 조사지역내의 귀화식물(歸化植物)로는 오리새, 왕포아풀, 애기수영, 대나물, 다닥냉이, 달맞이꽃, 미국쑥부쟁이, 지느러미엉겅퀴, 개망초, 서양민들레 등 14종류(種類)가 분포하는 것으로 나타났다.',\n",
       "  'en': 'The flora of vascular plants investigated in Mt. Hyangro-Bong was 450 taxa belonging to 86 families, 254 genera, 393 species, 2 subspecies, 51 varieties, 4 formae. Among the investigated vascular plants, Korean endemic plants (Carex okamotoi, Salix koriyanagi, Clematis chisanensis, Aconitum pseudo-laeve var. erectum, Viola diamantiaca, Sanguisorba hakusanensis, Vicia venosissima, Patrinia saniculaefolia, Hanabusaya asiatica, H. asiatica for. alba etc.) were 23 taxa; rare and endangered plants(Disporum ovale, Lilium distichum, Trillium kamtschaticum, Gastrodia elata. Clematis chisanensis, Rodgersia podophylla, Rosa marretii, Viola diamantiaca, Syringa wolfii, Hanabusaya asiatica etc.) were 17 taxa; naturalized plants(Dactylis glomerata. Poa pratensis, Rumex acetosella, Gypsophila oldhamiana, Lepidium apetalum, Oenothera odorata, Aster pilosus, Carduus crispus, Erigeron annuus, Taraxacum officinale etc.) were 14 taxa.'},\n",
       " 'keywords': {'en': 'endemic plants;rare and endangered plants;naturalized plants;'},\n",
       " 'body_text': [{'section': 'I . 給論',\n",
       "   'text': ['향로봉(1,293m)은 강원도 인제군 서화면과 고성군 간성면의 경계에 자리잡은 산으로서 大白山脈의 북부에 위치하여 香爐峰山脈을 형성하고 있으며 , 신라시대에는 가리 라봉이라고도 불렀다.',\n",
       "    '6 · 25전쟁 당시에는 격전지의 하나로 #이며 산의 북쪽사면에 휴전선이 지난다. 민통선에 인접한 관계로 1953년 휴전후 40여년간 인간의 간섭을 거의 받지 않아 # 野生 動·植物이 서식하는 독특한 生態系를 형성하여 국제적인 자연자원의 보고로 평가되고 있다.',\n",
       "    '이 지역의 植物相에 대한 조사는 環境處(1992)가 620種類를 발표한 바 있고, 環境處(1990)의 綠地自然度 地域 精密調査에서 綠地自然度 7등급과 8등급으로 조사 · 보고되어진 바 있다. 또한 이 지역은 1973년에 향로봉, 건봉산 일대 2천5백2십만평이 天然保存區域(천연기념물 제247호)으로 지정된 바 있다.',\n",
       "    '본 조사지역은 한국식물의 분포와 기후에 따라 세분한 李愚#과 任良幸(1978)의 植物區系區分에 의하면 일화식물구계의 온대아구계 중의 한국구 중앙부에 있으며 아구 수준의 구분에 따르면 아무르, 우수리 지방계의 남하통로로 여겨지는 관북아구와 남방계식물의 북상루트로 보여지는 중부아구가 교차되는 곳으로 전형적으로 온대지역이나 지형학상으로 흥미있는 곳이다.',\n",
       "    '본 조사지역의 식물상은 해발고도 1,000m 이하는 한국 온대의 極相林인 신갈나무(Quercus mongohca)군계로 대표되며 1,000m 이상은 한대성의 분비나무-잣나무군락이 격리분포되고 있으나 상부의 분비나무-잣나무군락은 군사시설 관계로 많은 부분이 파괴되어 있는 상태이다(環境處，1993).',\n",
       "    '따라서 본 연구에서는 아직까지 전혀 연구 · 보고되어진 바 없는 향로봉 서사면지역 식물상을 규명하고자 하였으며, 기존의 학자들에 의해 식물상이 밝혀진 바 있는 일부지역을 포함한 향로봉 전체지역의 식물상을 재검토하고자 한다.',\n",
       "    '본 연구에서 군사통제구역인 동굴봉 상부와 정상부는 조사에서 제외 하였고, 조사기간이 짧은 관계로 식물상 규명에 다소 미비한 점이 있으나 추후 계속적인 조사를 통하여 보완할 예정이다.']},\n",
       "  {'section': 'II. 材料 및 方法',\n",
       "   'text': ['향로봉지역에 대한 조사는 1998년 8월 21일, 10월 21일?22일에 실시되었으며, 주요 조사경로는 그림 1과 같다. 조사기간 가운데 본 지역에 출현한 식물들은 標本採取 및 現地記入하는 방식을 원칙으로 하여 所産植物目錄을 작성하였다(Appendix 1).',\n",
       "    '조사지역에 출현한 미동정 식물의 분류 및 동정은 일부 분류군(鄭合敍, 1965)을 제외하고는 Fuller와 Tippo의 관속식물문을 따른 李昌福(1981)을 기준으로 하였고，재배된 관속식물의 경우는 국명 뒤에 (재)자를 표시하여 구분하였다. 증거표본은 脂葉標本을 제작하여 강원대학교 산림과학대학 임학과 표본실에 보관하였다.',\n",
       "    '이 조사지역의 출현식물중 韓國特産植物은 白元基(1994), 稀貴 및 滅種危機植物은 山林廳(1996), 歸化植物은 李銀靈과 全義植(1995) 및 朴壽現(1995)에 의하여 분류 및 구분을 하였다.']},\n",
       "  {'section': 'Ⅲ . 結果 및 考察'},\n",
       "  {'section': '1. 出現植物의 種類組成',\n",
       "   'text': ['향로봉지역에 자생하는 管束植物은 86科 254屬 393種 2亞種 48變種 4品種으로 총 450種類가 분포하는 것으로 나타났다(표 1). 이는 Nakai(1952)에 의해 보고된 한반도에 자생하는 전체 관속식물 4,191種類의 10.7%에 해당되고, 강원도에 자생하는 관속식물 1,913種類(江原道, 1997)의 23.5%에 해당한다. 또한 이번 조사를 통해 밝혀진 이 지역 관속식물상 450種類는 環境處가 1992년에 自然生態系 地域精密調査를 통해 밝힌 620種類와는 많은 차이를 나타내고 있지만, 이번 조사를 통하여 부전쥐손이와 흰금강초롱꽃 등의 한국특산종과 희귀 및 멸종위기종이 새롭게 추가되었다. 앞으로 모든 계절을 포함한 장기간의 조사가 이루어진다면 더욱 많은 수의 植物種이 추가될 것으로 예상된다.']},\n",
       "  {'section': '2. 韓國特産植物의 分布',\n",
       "   'text': ['特産植物은 주어진 환경에서 적응과 진화를 거듭해온 그 지역의 특수성을 잘 설명하여 주는 식물로서, Nakai(1952)는 韓國特産植物을 642種 402變種 74品種으로 총 1,118種類로 보고하였고. 李昌福(1983)은 61科 172屬 339種 46變種 22品種으로 총 407種類를 보고하였으며, 최근 白元基(1994)는 72科 299屬 269種 1亞種 174變種 1亞變種 125品種으로 총 570種類를 韓國特産植物로 밝히고 있다.',\n",
       "    '본 조사를 통해 밝혀진 이 지역의 韓國特産植物로는 12科 19屬 19種 3變種 1品種, 총 23種類가 분포하는 것으로 나타났다(표 2). 이는 우리나라에 자생하는 韓國特産植物 570種類(白元基, 1994)의 4.04%에 해당하는 것이며, 江原道에 분포하는 韓國特産物 148種類(江原道,1997)의 15.5%이다. 이는 장기간에 걸친 보완 조사를 실시할 경우 그 수는 더욱 증가할 것으로 예상되며, 이 지역에 분포하는 韓國特産植物에 대한 체계적인 보호와 보전조치가 요망된다.',\n",
       "    '조사된 韓國特産植物중 일반적으로 흔히 분포하는 種類를 제외한 것들과, 본 조사지역에서 발견되는 植物地理學的으로 중요한 種類들의 分類學的 특징은 다음과 같다.']},\n",
       "  {'section': '1) 금강초롱꽃(Hanabusaya asiatica Nakai)',\n",
       "   'text': ['초롱꽃科의 多年草로서 잎은 줄기중간에 互生하며 卵狀 長槪圓形이다. 잎 가장자리는 안으로 굽은 불규칙한 톱니가 있으며, 표면에 털이 약간 있다. 꽃은 8?9월에 연한 자주색으로 피고 줄기 끝에 圓雜狀으로 종모양의 꽃이 밑을 향하여 달린다. 횐금강초롱꽃(H. asiatica for. alba)과 함께 본 조사지 전역에 걸쳐 분포하고 있었으며. 강원의 설악산, 오대산 등의 고산지대와 경기의 명지산, 석룡산, 화악산에 주로 분포한다.']},\n",
       "  {'section': '2) 산오이풀(Sanguisorba hakusanensis Makino)',\n",
       "   'text': ['장미科의 多年草로서 잎은 互生하고 別狀複葉이며 根生葉은 葉ffi이 길고 小葉은 備圓形으로 끝은 둥글며, 밑은 둥글거나 心形이고 뒷면이 분백색이며 가장자리에 예리한 톱니가 있다. 꽃은 8?9월에 홍자색으로 피고 가지 끝에 圓柱形 德狀花序로 달리며 위로부터 피기 시작한다. 무등산, 지리산, 가야산, 설악산. 금강산 등의 고산지역에 주로 분포한다.']},\n",
       "  {'section': '3) 부전쥐손이 (Geranium eriostemon var. glabrescens Nakai)',\n",
       "   'text': ['쥐손이풀科의 多年草로 잎은 互生하고 根董은 葉#이 길지만 위로 갈수록 짧아져 掌狀으로 깊이 갈라지며 製片은 養狀 滿圓形으로 끝이 뾰족하고 缺刻狀 톱니가 있다. 꽃은 7 ? 8월에 연한 홍자색으로 피며 줄기와 가지 끝에 幸形花序로 달린다. 함경남도의 부전고원, 운선령, 차일봉에 주로 분포하지만, 본 조사지역의 한정된 지역에서도 분포하는 것으로 나타났다.']},\n",
       "  {'section': '3. 稀貴 및 滅種危機植物의 分布',\n",
       "   'text': ['稀貴 및 滅種危機植物을 간략히 정의하면, 稀貴植物이란 지리적인 분포역에 있어서 植物種이 어떤 제한된 지역에만 생육하는 경우를 가리키며, 滅種危機植物이란 가까운 장래에 특정지역의 분포역에 있어서 사라질 가능성이 매우 농후한 상태에 놓여있는 생물을 의미한다(Bartel, 1987). 이러한 생물이 그 지역에서 사라진다는 것은 곧 지구상에서 사라진다는 것을 뜻하므로 더욱 중요한 의미를 가지고 보호해야한다.',\n",
       "    '향로봉지역에 분포하는 稀貴 및 滅種危機植物로는 11科 15屬 16種 1變種. 총 17種類가 분포하는 것으로 나타났다(표 3). 이는 山林廳(1996)이 지정한 稀貴 및 滅種危機植物 217種類의 7.8%에 해당하는 것으로서, 이는 비슷한 해발고의 청옥산, 두타산 그리고 중봉산 지역의 稀貴 및 滅種危機植物 평균종수 17種(朴完根과 劉錄仁, 1998)과 비슷한 양상을 나타내고 있었다. 특히, 이 지역에 분포하는 稀貴 및 滅種危機植物중 관상적 가치가 높은 관계로 #採되고 있는 정향나무, 꽃개회나무, 금강초롱꽃 등에 대한 체계적인 보호 및 보전조치가 시급하다고 사료된다.']},\n",
       "  {'section': '4. 歸化植物의 分布',\n",
       "   'text': ['歸化植物이란 인간, 동물, 화물 등의 매개에 의하여 해외의 자생지로부터 국내에 유입되어 우리나라 국토에서 야생하게 된 식물과, 정책에 의한 의도적인 수입 재배종이 자연에 유입되어 야생화된 식물을 총칭하는 말로서, 이들 歸化植物들은 토착 自生植物과 生態系에 예기치 않은 불리한 영향을 주기도 한다(李銀體과 全義植. 1995). 외국에서는 外來種이 토착식물과 생태계에 미치는 영향에 대해서 많은 사례가 보고되고 있으며, 1995년 1월 1일부터 우리나라에서 발효된 生物多樣性에 관한 협약에서도 생물다양성 보전 측면에서 외래종의 유입방지 및 유입된 종에 대한 관리 필요성을 강조하고 있다.',\n",
       "    '본 조사를 통해 나타난 歸化植物은 8科 12屬 14種, 총 14種類가 분포하는 것으로 나타났다(표 4). 이는 이 지역에 분포하는 전체 管束植物 450種類의 3.1%에 해당하는 값이고, 우리나라 歸化植物 218種類(李銀#과 全義植, 1995)의 6.4%에 해당하며, 추후 보완조사를 실시할 경우 그 수는 더욱 증가할 것으로 예상된다.',\n",
       "    '이 지역의 경우 군사시설물 주변과, 군용도로변에는 미국쑥부쟁이와 개망초가 군락을 이루고 있었다. 이와 같은 歸化植物의 군락을 통해 인간의 간섭에 의한 자연파괴가 상당히 진전되고 있음을 간접적으로 알 수 있었다. 따라서 이 지역 자생 토착식물에 영향을 초래하는 歸化植物에 대한 관리체계를 수립하는 것이 요구된다.']},\n",
       "  {'section': 'IV. 結論',\n",
       "   'text': ['1998년 8월 21일, 10월 21일?22일에 향로봉지역의 植物相을 조사하여 다음과 같은 결과를 얻었다.',\n",
       "    '1) 조사지역에 자생하는 管束植物은 86科 254屬 393種 2亞種 48變種 4品種으로 총 450種類가 분포하는 것으로 나타났다.',\n",
       "    '2) 이 지역에 분포하는 韓國特産植物은 지리대사초, 키버들, 누른종덩굴, 진범, 금강제비꽃, 산오이풀, 노랑갈퀴, 금마타리, 금강초롱꽃, 횐금강초롱꽃, 각시서덜취 등 23種類가 분포하는 것으로 나타났다.',\n",
       "    '3) 조사지역내 자생하는 稀貴 및 滅種危機植物로는 진부애기나리, 말나리, 연령초, 천마, 누른종덩굴, 도깨비부채, 붉은인가목, 금강제비꽃. 꽃개회나무, 금강초롱꽃 등 17種類가 분포하는 것으로 나타났다.',\n",
       "    '4) 自生植物과 生態系에 예기치 않은 영향을 일으키는 歸化植物로는 오리새, 왕포아풀, 애기수영, 대나물, 다닥냉이, 달맞이꽃, 미국쑥부쟁이, 지느러미엉겅퀴, 개망초, 서양민들레 등 14種類가 분포하고 있었다.']},\n",
       "  {'section': 'Appendix'}],\n",
       " 'ref_entries': {'FIGURE[1]': {'text': 'Fig. 1. A map of showing the surveyed area( ----- Collection course)',\n",
       "   'type': 'figure'},\n",
       "  'TABLE[1]': {'text': 'Table 1. The abridged list of the plants in surveyed area.',\n",
       "   'type': 'table'},\n",
       "  'TABLE[2]': {'text': 'Table 2. The list of the Korean ende ic plants in surveyed area.',\n",
       "   'type': 'table'},\n",
       "  'TABLE[3]': {'text': 'Table 3. The list of rare and endangered plants in surveyed area.',\n",
       "   'type': 'table'},\n",
       "  'TABLE[4]': {'text': 'Table 4. The list of naturalized plants in surveyed area.???????',\n",
       "   'type': 'table'}}}"
      ]
     },
     "execution_count": 8,
     "metadata": {},
     "output_type": "execute_result"
    }
   ],
   "source": [
    "temp"
   ]
  },
  {
   "cell_type": "code",
   "execution_count": 10,
   "id": "c60271aa",
   "metadata": {},
   "outputs": [
    {
     "data": {
      "text/plain": [
       "'Journal of Forest and Environmental Science'"
      ]
     },
     "execution_count": 10,
     "metadata": {},
     "output_type": "execute_result"
    }
   ],
   "source": [
    "temp['journal']['en']"
   ]
  },
  {
   "cell_type": "code",
   "execution_count": null,
   "id": "85405eb2",
   "metadata": {},
   "outputs": [],
   "source": [
    "df2.shape"
   ]
  }
 ],
 "metadata": {
  "kernelspec": {
   "display_name": "Python 3 (ipykernel)",
   "language": "python",
   "name": "python3"
  },
  "language_info": {
   "codemirror_mode": {
    "name": "ipython",
    "version": 3
   },
   "file_extension": ".py",
   "mimetype": "text/x-python",
   "name": "python",
   "nbconvert_exporter": "python",
   "pygments_lexer": "ipython3",
   "version": "3.10.11"
  }
 },
 "nbformat": 4,
 "nbformat_minor": 5
}
