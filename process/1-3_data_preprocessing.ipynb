{
 "cells": [
  {
   "cell_type": "markdown",
   "id": "022f45b4-0e23-4c3c-9d3f-a266a400eda7",
   "metadata": {},
   "source": [
    "<div class=\"alert alert-block alert-info\">\n",
    "<b>Sentence BERT를 이용한 내용 기반 국문 저널 추천 시스템</b>\n",
    "</div>"
   ]
  },
  {
   "cell_type": "markdown",
   "id": "90025859-9011-46d2-be85-0ad59c315c3c",
   "metadata": {},
   "source": [
    "# I. 데이터 준비 및 전처리"
   ]
  },
  {
   "cell_type": "markdown",
   "id": "7e8c6ba4-b5c8-4657-b54c-2d90330cb0f5",
   "metadata": {},
   "source": [
    "---\n",
    "# Setting"
   ]
  },
  {
   "cell_type": "code",
   "execution_count": 1,
   "id": "a7bf5f6f-e14a-433d-babc-df6c0e05ba2a",
   "metadata": {},
   "outputs": [
    {
     "name": "stdout",
     "output_type": "stream",
     "text": [
      "# Fonts found\n",
      "Hiragino Maru Gothic Pro /System/Library/Fonts/ヒラギノ丸ゴ ProN W4.ttc\n",
      "Noto Sans Gothic /System/Library/Fonts/Supplemental/NotoSansGothic-Regular.ttf\n",
      "Apple SD Gothic Neo /System/Library/Fonts/AppleSDGothicNeo.ttc\n",
      "AppleGothic /System/Library/Fonts/Supplemental/AppleGothic.ttf\n",
      "# Setting Korean\n",
      "=> AppleGothic set\n",
      "\n",
      "# Compledted importing and setting\n"
     ]
    }
   ],
   "source": [
    "# setting path\n",
    "import sys\n",
    "sys.path.append('..') # parent directory 경로 추가\n",
    "\n",
    "from common import *\n",
    "from my import *\n",
    "\n",
    "%matplotlib inline\n",
    "%config InlineBackend.figure_format='retina'\n",
    "\n",
    "# random seed 고정 \n",
    "import os, random\n",
    "def set_seeds(seed):\n",
    "    os.environ['PYTHONHASHSEED'] = str(seed)\n",
    "    random.seed(seed)\n",
    "    np.random.seed(seed)\n",
    "#     tf.random.set_seed(seed) # Tensorflow 사용시 \n",
    "SEED = 777\n",
    "set_seeds(SEED)"
   ]
  },
  {
   "cell_type": "code",
   "execution_count": 3,
   "id": "acfff8cf-1d92-4509-b31f-ce34d31da6cd",
   "metadata": {},
   "outputs": [],
   "source": [
    "## KoNLPY 및 Mecab 설치\n",
    "# Homebrew 설치 필요\n",
    "\n",
    "# !pip install konlpy\n",
    "# !pip install mecab-python\n",
    "# !bash <(curl -s https://raw.githubusercontent.com/konlpy/konlpy/master/scripts/mecab.sh)"
   ]
  },
  {
   "cell_type": "code",
   "execution_count": 2,
   "id": "a14573ba-6854-431e-8148-9c154e848af8",
   "metadata": {},
   "outputs": [],
   "source": [
    "import os\n",
    "import pickle\n",
    "from tqdm import tqdm\n",
    "\n",
    "import joblib\n",
    "from joblib import Parallel, delayed, parallel_backend\n",
    "\n",
    "import collections\n",
    "from heapq import nlargest\n",
    "from operator import itemgetter\n",
    "\n",
    "import re\n",
    "import nltk\n",
    "from nltk.corpus import stopwords\n",
    "from nltk.tokenize import word_tokenize\n",
    "from konlpy.tag import Okt, Mecab\n",
    "\n",
    "import math\n",
    "from scipy import sparse\n",
    "from sklearn.metrics.pairwise import cosine_similarity\n",
    "from sklearn.feature_extraction.text import CountVectorizer"
   ]
  },
  {
   "cell_type": "markdown",
   "id": "485241f4-da53-48a8-aeae-809fbd50e121",
   "metadata": {},
   "source": [
    "---\n",
    "# 데이터 읽기\n",
    "\n",
    "사전 완료된 전처리:\n",
    "- 논문 10개 미만 저널은 제거 됨 (기존 600여개 -> 268개 저널로 감소)\n",
    "- 학술대회 논문집 제거 됨\n",
    "\n",
    "추가로 수행할 전처리:\n",
    "- 결측치 제거\n",
    "- 텍스트(제목, 키워드) 전처리"
   ]
  },
  {
   "cell_type": "code",
   "execution_count": 17,
   "id": "db0180e5-78ae-4091-8357-cdab3a324c72",
   "metadata": {},
   "outputs": [
    {
     "data": {
      "text/html": [
       "<div>\n",
       "<style scoped>\n",
       "    .dataframe tbody tr th:only-of-type {\n",
       "        vertical-align: middle;\n",
       "    }\n",
       "\n",
       "    .dataframe tbody tr th {\n",
       "        vertical-align: top;\n",
       "    }\n",
       "\n",
       "    .dataframe thead th {\n",
       "        text-align: right;\n",
       "    }\n",
       "</style>\n",
       "<table border=\"1\" class=\"dataframe\">\n",
       "  <thead>\n",
       "    <tr style=\"text-align: right;\">\n",
       "      <th></th>\n",
       "      <th>title</th>\n",
       "      <th>abstract</th>\n",
       "      <th>keywords</th>\n",
       "      <th>journal</th>\n",
       "      <th>type</th>\n",
       "    </tr>\n",
       "  </thead>\n",
       "  <tbody>\n",
       "    <tr>\n",
       "      <th>JAKO200622234005936</th>\n",
       "      <td>AHP 기법을 활용한 CRM 평가요소의 상대적 중요도 분석</td>\n",
       "      <td>고객관계관리(CRM)의 전략적 중요성이 증대함에 따라 CRM에 대한 성과평가가 최근...</td>\n",
       "      <td>성과평가;고객관계관리;</td>\n",
       "      <td>CRM연구</td>\n",
       "      <td>JA</td>\n",
       "    </tr>\n",
       "    <tr>\n",
       "      <th>JAKO200622234005941</th>\n",
       "      <td>인터넷 오픈마켓 거래안전 요인과 소비자신뢰의 관계 연구</td>\n",
       "      <td>본 연구는 우리나라 전자상거래 업계에서 새로운 업태로 급격하게 성장하고 있는 인터넷...</td>\n",
       "      <td>인터넷오픈마켓;소비자신뢰;소비자만족;거래위험;</td>\n",
       "      <td>CRM연구</td>\n",
       "      <td>JA</td>\n",
       "    </tr>\n",
       "    <tr>\n",
       "      <th>JAKO200622234005947</th>\n",
       "      <td>시스템 다이내믹스를 활용한 정보 기술 수용에 대한 동태적 모형 개발 - 휴대 전화 ...</td>\n",
       "      <td>기존의 초기 기술 수용 모델(TAM)과 후기 기술 수용 모델(PAM)을 사용한 연구...</td>\n",
       "      <td>시스템 다이내믹스;휴대 전화;</td>\n",
       "      <td>CRM연구</td>\n",
       "      <td>JA</td>\n",
       "    </tr>\n",
       "  </tbody>\n",
       "</table>\n",
       "</div>"
      ],
      "text/plain": [
       "                                                                 title  \\\n",
       "JAKO200622234005936                   AHP 기법을 활용한 CRM 평가요소의 상대적 중요도 분석   \n",
       "JAKO200622234005941                     인터넷 오픈마켓 거래안전 요인과 소비자신뢰의 관계 연구   \n",
       "JAKO200622234005947  시스템 다이내믹스를 활용한 정보 기술 수용에 대한 동태적 모형 개발 - 휴대 전화 ...   \n",
       "\n",
       "                                                              abstract  \\\n",
       "JAKO200622234005936  고객관계관리(CRM)의 전략적 중요성이 증대함에 따라 CRM에 대한 성과평가가 최근...   \n",
       "JAKO200622234005941  본 연구는 우리나라 전자상거래 업계에서 새로운 업태로 급격하게 성장하고 있는 인터넷...   \n",
       "JAKO200622234005947  기존의 초기 기술 수용 모델(TAM)과 후기 기술 수용 모델(PAM)을 사용한 연구...   \n",
       "\n",
       "                                      keywords journal type  \n",
       "JAKO200622234005936               성과평가;고객관계관리;   CRM연구   JA  \n",
       "JAKO200622234005941  인터넷오픈마켓;소비자신뢰;소비자만족;거래위험;   CRM연구   JA  \n",
       "JAKO200622234005947           시스템 다이내믹스;휴대 전화;   CRM연구   JA  "
      ]
     },
     "execution_count": 17,
     "metadata": {},
     "output_type": "execute_result"
    }
   ],
   "source": [
    "df = pd.read_csv('./data/df_complete_filtered.csv', index_col=0, dtype='string')\n",
    "df.head(3)"
   ]
  },
  {
   "cell_type": "code",
   "execution_count": 18,
   "id": "eff08f25-7306-4732-a370-fc788f62592a",
   "metadata": {},
   "outputs": [
    {
     "name": "stdout",
     "output_type": "stream",
     "text": [
      "<class 'pandas.core.frame.DataFrame'>\n",
      "Index: 103070 entries, JAKO200622234005936 to JAKO201505040785314\n",
      "Data columns (total 5 columns):\n",
      " #   Column    Non-Null Count   Dtype \n",
      "---  ------    --------------   ----- \n",
      " 0   title     103069 non-null  string\n",
      " 1   abstract  103070 non-null  string\n",
      " 2   keywords  103070 non-null  string\n",
      " 3   journal   103070 non-null  string\n",
      " 4   type      103070 non-null  string\n",
      "dtypes: string(5)\n",
      "memory usage: 4.7 MB\n"
     ]
    }
   ],
   "source": [
    "df.info()"
   ]
  },
  {
   "cell_type": "code",
   "execution_count": 19,
   "id": "e04f2968-5110-42c8-81a5-1831690db948",
   "metadata": {},
   "outputs": [
    {
     "data": {
      "text/plain": [
       "268"
      ]
     },
     "execution_count": 19,
     "metadata": {},
     "output_type": "execute_result"
    }
   ],
   "source": [
    "df['journal'].nunique() # 저널 종류 수"
   ]
  },
  {
   "cell_type": "code",
   "execution_count": 6,
   "id": "fbe90749-12b2-4d68-9e56-a67782be76f0",
   "metadata": {},
   "outputs": [
    {
     "data": {
      "text/plain": [
       "한국콘텐츠학회논문지        7749\n",
       "디지털융복합연구          5346\n",
       "한국정보통신학회논문지       2864\n",
       "대한토목학회논문집         2600\n",
       "한국융합학회논문지         2512\n",
       "                  ... \n",
       "대한한방부인과학회지          12\n",
       "한국수소및신에너지학회논문집      11\n",
       "한국항공운항학회지           11\n",
       "한국해안해양공학회지          10\n",
       "한국태양에너지학회 논문집       10\n",
       "Name: journal, Length: 268, dtype: Int64"
      ]
     },
     "execution_count": 6,
     "metadata": {},
     "output_type": "execute_result"
    }
   ],
   "source": [
    "df['journal'].value_counts() # 저널별 문서 수"
   ]
  },
  {
   "cell_type": "code",
   "execution_count": null,
   "id": "0b5fc816-0aa2-4393-a4af-7c9ee92719c8",
   "metadata": {},
   "outputs": [],
   "source": [
    "# 최초 데이터의 document id - index 매핑\n",
    "# 데이터 전처리 과정에서 데이터 제거 발생시, embedding 벡어테 대해서도 동일한 위치의 데이터를 삭제하기 위해 필요\n",
    "old_id_index = pd.Series(range(len(df)), index=df.index)"
   ]
  },
  {
   "cell_type": "markdown",
   "id": "78ede2b8-fec3-4051-b4de-d650cbf9f5b0",
   "metadata": {},
   "source": [
    "---\n",
    "# 초록(Abstract) SBERT Embedding\n",
    "- 모든 초록 데이터를 SBERT Embedding해 놓기"
   ]
  },
  {
   "cell_type": "code",
   "execution_count": 5,
   "id": "11262edc-2155-4bf0-ae1e-0db38e00bbcb",
   "metadata": {},
   "outputs": [],
   "source": [
    "import pandas as pd\n",
    "from tqdm import tqdm\n",
    "from sentence_transformers import SentenceTransformer\n",
    "\n",
    "# 모델 다운로드 및 임베딩 테스트\n",
    "sentences = [\"테스트 할 것 입니다. 테스트 테스트 테스트.\"]\n",
    "\n",
    "#model = SentenceTransformer('ys7yoo/sentence-roberta-large-kor-sts')\n",
    "#model = SentenceTransformer(\"Huffon/sentence-klue-roberta-base\")  #  https://huggingface.co/Huffon/sentence-klue-roberta-base\n",
    "model = SentenceTransformer('smartmind/ko-sbert-augSTS-maxlength512') # https://huggingface.co/smartmind/ko-sbert-augSTS-maxlength512 # http://knlp.snu.ac.kr/index.html"
   ]
  },
  {
   "cell_type": "code",
   "execution_count": 6,
   "id": "3a967525-0f6c-41c2-9d12-6aee4e0711ed",
   "metadata": {},
   "outputs": [
    {
     "data": {
      "text/plain": [
       "(103070, 6)"
      ]
     },
     "execution_count": 6,
     "metadata": {},
     "output_type": "execute_result"
    }
   ],
   "source": [
    "df.shape"
   ]
  },
  {
   "cell_type": "code",
   "execution_count": 7,
   "id": "d808c7ef-6cd3-44b7-9345-8498021f88a2",
   "metadata": {},
   "outputs": [
    {
     "name": "stderr",
     "output_type": "stream",
     "text": [
      " 34%|███████████████████████▊                                              | 34996/103070 [5:12:30<6:46:05,  2.79it/s]"
     ]
    }
   ],
   "source": [
    "embed1 = []\n",
    "for i in (tqdm(range(0,len(df.abstract)))):\n",
    "    embed1.append(model.encode(df.abstract[i]))"
   ]
  },
  {
   "cell_type": "code",
   "execution_count": 8,
   "id": "651d465f-78db-47ba-bd43-d1f921f6f4d3",
   "metadata": {},
   "outputs": [],
   "source": [
    "import numpy as np\n",
    "# np.array(embed1)\n",
    "np.save('./data/embed/df_complete_filtered.npy', np.array(embed1)) "
   ]
  },
  {
   "cell_type": "markdown",
   "id": "8e718c16-abc9-457e-a0f8-d03422d88415",
   "metadata": {},
   "source": [
    "---\n",
    "# 데이터 전처리\n",
    "- 추가로 필요한 전처리 수행"
   ]
  },
  {
   "cell_type": "markdown",
   "id": "e272fdfc-e10c-46c0-98ce-32c3d57c2810",
   "metadata": {},
   "source": [
    "## 결측값 처리"
   ]
  },
  {
   "cell_type": "code",
   "execution_count": 29,
   "id": "d009a517-44ed-409e-bda9-ea5e0006cdfb",
   "metadata": {},
   "outputs": [
    {
     "data": {
      "text/plain": [
       "0"
      ]
     },
     "execution_count": 29,
     "metadata": {},
     "output_type": "execute_result"
    }
   ],
   "source": [
    "# title 결측값 제거 : <NA>\n",
    "df.drop(index=df[df.isna().any(axis=1)].index, inplace=True)\n",
    "df.isna().sum().sum()"
   ]
  },
  {
   "cell_type": "code",
   "execution_count": 30,
   "id": "a91fe109-09a2-42e1-83fd-259aa961f334",
   "metadata": {},
   "outputs": [
    {
     "name": "stdout",
     "output_type": "stream",
     "text": [
      "(103069, 5)\n",
      "(103067, 5)\n"
     ]
    }
   ],
   "source": [
    "# keywords 이상값 제거 : ';'\n",
    "print(df.shape)\n",
    "no_keywords_index = df[(df['keywords'] == '') | (df['keywords'] == ' ') | (df['keywords'] == ';')].index # keywords 값이 ';'인 데이터 2건\n",
    "df.drop(index=no_keywords_index, inplace=True)\n",
    "print(df.shape)"
   ]
  },
  {
   "cell_type": "markdown",
   "id": "e7f5b8f4-7707-4777-88f5-189b60682c39",
   "metadata": {},
   "source": [
    "- Title 결측값 1건 제거\n",
    "- Keywords 결측값 2건 제거\n",
    "- => 총 3건 제거"
   ]
  },
  {
   "cell_type": "markdown",
   "id": "4900b346-a728-4062-a5c7-bf033508f295",
   "metadata": {},
   "source": [
    "## 제목(Title) 전처리\n",
    "\n",
    "**전처리 방향**\n",
    "- 일반 명사, 고유 명사, 외국어 추출\n",
    "- 형태소 분석은 단순히 Mecab을 사용하는 것이 아닌, 아래의 예시와 같은 방향으로도 진행 됨\n",
    "    - 예를 들어, 'e-commerce'의 경우, 'ecommerce'가 아닌 -> 'e' 'commerce'로 구분하여, 'e'와 'commerce' 2개의 다른 단어가 생기게 됨\n",
    "    - 'e'도 엄밀히 말하면 의미가 있는 단어이며, 'e'의 포함 여부가 의미상 차이를 주기 때문에, 각각의 단어로 사전에 포함시키는 것으로 함\n",
    "- length 1개짜리 text 유지\n",
    "    - title이나 keyword에서 text length 1인 것들 있음\n",
    "    - 한글의 경우 '혀', '술' 등 대부분 의미가 있기 때문에 별도 처리 없이 진행\n",
    "    - 영어도 's'만 놓고 보면 별 의미 없어보이지만, 's 분석', 'a 교근', 'y 유전자' 이렇게 특정 주제에 대한 것으로 보여 그대로 사용함\n",
    "- 숫자 유지\n",
    "    - 숫자가 가지는 의미가 있기 때문에 유지\n",
    "    - '119', '112', '2 형', '19 세기', '5 급', '3 차원', '10 종' 등\n",
    "- 한자 유지\n",
    "    - 한자가 쓰여진 경우 유사도 분석에서 더욱 명확할 것\n",
    "    - '國內', '原電' 등\n",
    "- Double (or more) space 제거\n",
    "    - 전처리 과정에서 생긴 공백 제거\n",
    "- 추출한 text 항목에서 중복되는 text도 유지"
   ]
  },
  {
   "cell_type": "code",
   "execution_count": 12,
   "id": "d6ee0694-0196-45b4-ace3-072183d17c36",
   "metadata": {},
   "outputs": [
    {
     "data": {
      "text/html": [
       "<div>\n",
       "<style scoped>\n",
       "    .dataframe tbody tr th:only-of-type {\n",
       "        vertical-align: middle;\n",
       "    }\n",
       "\n",
       "    .dataframe tbody tr th {\n",
       "        vertical-align: top;\n",
       "    }\n",
       "\n",
       "    .dataframe thead th {\n",
       "        text-align: right;\n",
       "    }\n",
       "</style>\n",
       "<table border=\"1\" class=\"dataframe\">\n",
       "  <thead>\n",
       "    <tr style=\"text-align: right;\">\n",
       "      <th></th>\n",
       "      <th>title</th>\n",
       "      <th>abstract</th>\n",
       "      <th>keywords</th>\n",
       "      <th>journal</th>\n",
       "      <th>type</th>\n",
       "      <th>title_nn</th>\n",
       "    </tr>\n",
       "  </thead>\n",
       "  <tbody>\n",
       "    <tr>\n",
       "      <th>JAKO200622234005936</th>\n",
       "      <td>AHP 기법을 활용한 CRM 평가요소의 상대적 중요도 분석</td>\n",
       "      <td>고객관계관리(CRM)의 전략적 중요성이 증대함에 따라 CRM에 대한 성과평가가 최근...</td>\n",
       "      <td>성과평가;고객관계관리;</td>\n",
       "      <td>CRM연구</td>\n",
       "      <td>JA</td>\n",
       "      <td>ahp 기법 활용 crm 평가 요소 상대 중요 분석</td>\n",
       "    </tr>\n",
       "    <tr>\n",
       "      <th>JAKO200622234005941</th>\n",
       "      <td>인터넷 오픈마켓 거래안전 요인과 소비자신뢰의 관계 연구</td>\n",
       "      <td>본 연구는 우리나라 전자상거래 업계에서 새로운 업태로 급격하게 성장하고 있는 인터넷...</td>\n",
       "      <td>인터넷오픈마켓;소비자신뢰;소비자만족;거래위험;</td>\n",
       "      <td>CRM연구</td>\n",
       "      <td>JA</td>\n",
       "      <td>인터넷 오픈 마켓 거래 안전 요인 소비자 신뢰 관계 연구</td>\n",
       "    </tr>\n",
       "    <tr>\n",
       "      <th>JAKO200622234005947</th>\n",
       "      <td>시스템 다이내믹스를 활용한 정보 기술 수용에 대한 동태적 모형 개발 - 휴대 전화 ...</td>\n",
       "      <td>기존의 초기 기술 수용 모델(TAM)과 후기 기술 수용 모델(PAM)을 사용한 연구...</td>\n",
       "      <td>시스템 다이내믹스;휴대 전화;</td>\n",
       "      <td>CRM연구</td>\n",
       "      <td>JA</td>\n",
       "      <td>시스템 다이내믹스 활용 정보 기술 수용 동태 모형 개발 휴대 전화 사용 중심</td>\n",
       "    </tr>\n",
       "  </tbody>\n",
       "</table>\n",
       "</div>"
      ],
      "text/plain": [
       "                                                                 title  \\\n",
       "JAKO200622234005936                   AHP 기법을 활용한 CRM 평가요소의 상대적 중요도 분석   \n",
       "JAKO200622234005941                     인터넷 오픈마켓 거래안전 요인과 소비자신뢰의 관계 연구   \n",
       "JAKO200622234005947  시스템 다이내믹스를 활용한 정보 기술 수용에 대한 동태적 모형 개발 - 휴대 전화 ...   \n",
       "\n",
       "                                                              abstract  \\\n",
       "JAKO200622234005936  고객관계관리(CRM)의 전략적 중요성이 증대함에 따라 CRM에 대한 성과평가가 최근...   \n",
       "JAKO200622234005941  본 연구는 우리나라 전자상거래 업계에서 새로운 업태로 급격하게 성장하고 있는 인터넷...   \n",
       "JAKO200622234005947  기존의 초기 기술 수용 모델(TAM)과 후기 기술 수용 모델(PAM)을 사용한 연구...   \n",
       "\n",
       "                                      keywords journal type  \\\n",
       "JAKO200622234005936               성과평가;고객관계관리;   CRM연구   JA   \n",
       "JAKO200622234005941  인터넷오픈마켓;소비자신뢰;소비자만족;거래위험;   CRM연구   JA   \n",
       "JAKO200622234005947           시스템 다이내믹스;휴대 전화;   CRM연구   JA   \n",
       "\n",
       "                                                       title_nn  \n",
       "JAKO200622234005936                ahp 기법 활용 crm 평가 요소 상대 중요 분석  \n",
       "JAKO200622234005941             인터넷 오픈 마켓 거래 안전 요인 소비자 신뢰 관계 연구  \n",
       "JAKO200622234005947  시스템 다이내믹스 활용 정보 기술 수용 동태 모형 개발 휴대 전화 사용 중심  "
      ]
     },
     "execution_count": 12,
     "metadata": {},
     "output_type": "execute_result"
    }
   ],
   "source": [
    "# title 처리\n",
    "# title에서 한글 명사/영문 용어 추출\n",
    "\n",
    "def extract_noun(sentence):\n",
    "    # 한글(일반 명사, 고유 명사), 외국어, 숫자 추출\n",
    "    nn_list = [re.sub(r'[^\\w\\s]','',text).strip().replace('   ', ' ').replace('  ', ' ').lower() for text, pos in mecab.pos(sentence) if pos in ('NNG','NNP','SL','SN')] # 특수문자 제거 \n",
    "    #nn_list = list(dict.fromkeys(nn_list).keys()) # 중복 제거\n",
    "    nn_res = ' '.join(nn_list).replace('   ', ' ').replace('  ', ' ') # 문자열 결합\n",
    "    return nn_res\n",
    "\n",
    "mecab = Mecab()\n",
    "workers = os.cpu_count() * 2\n",
    "\n",
    "df['title_nn'] = Parallel(n_jobs=workers)(delayed(extract_noun)(title) for title in df['title'])\n",
    "df.head(3)"
   ]
  },
  {
   "cell_type": "code",
   "execution_count": 13,
   "id": "a66f9e44-a1d2-4835-9534-f8ad02fbe36a",
   "metadata": {},
   "outputs": [
    {
     "data": {
      "text/html": [
       "<div>\n",
       "<style scoped>\n",
       "    .dataframe tbody tr th:only-of-type {\n",
       "        vertical-align: middle;\n",
       "    }\n",
       "\n",
       "    .dataframe tbody tr th {\n",
       "        vertical-align: top;\n",
       "    }\n",
       "\n",
       "    .dataframe thead th {\n",
       "        text-align: right;\n",
       "    }\n",
       "</style>\n",
       "<table border=\"1\" class=\"dataframe\">\n",
       "  <thead>\n",
       "    <tr style=\"text-align: right;\">\n",
       "      <th></th>\n",
       "      <th>title</th>\n",
       "      <th>abstract</th>\n",
       "      <th>keywords</th>\n",
       "      <th>journal</th>\n",
       "      <th>type</th>\n",
       "      <th>title_nn</th>\n",
       "    </tr>\n",
       "  </thead>\n",
       "  <tbody>\n",
       "    <tr>\n",
       "      <th>JAKO201505040785309</th>\n",
       "      <td>낙동강 유역의 친환경 하천 준설을 위한 환경창 수립 방안</td>\n",
       "      <td>국내의 하천 환경은 4대강 사업 이후로 많은 변화가 예상되며, 이 과정에서 하천관리...</td>\n",
       "      <td>하천준설;환경준설;환경창;준설시기;준설기간;</td>\n",
       "      <td>환경정책연구</td>\n",
       "      <td>JA</td>\n",
       "      <td>낙동강 유역 친환경 하천 준설 환경 창 수립 방안</td>\n",
       "    </tr>\n",
       "    <tr>\n",
       "      <th>JAKO201505040785312</th>\n",
       "      <td>쿠르노 경쟁하의 배출권 이월 및 차입과 감축기술개발투자</td>\n",
       "      <td>배출권 이월 및 차입은 감축기술개발투자에 영향을 미칠 수 있다. 배출권거래제하에서 ...</td>\n",
       "      <td>쿠르노 경쟁모델;불완전경쟁;기술개발;배출권거래제;경제학문헌목록 주제분류 : L13,...</td>\n",
       "      <td>환경정책연구</td>\n",
       "      <td>JA</td>\n",
       "      <td>쿠르노 경쟁 배출 이월 차입 감축 기술 개발 투자</td>\n",
       "    </tr>\n",
       "    <tr>\n",
       "      <th>JAKO201505040785314</th>\n",
       "      <td>지리정보를 활용한 한국의 지질유산 정보화 구축 및 관리방안 제시</td>\n",
       "      <td>국내외으로 지질유산에 대한 관심과 선정 등이 지속적으로 이루어지고 있다. 그러나 지...</td>\n",
       "      <td>지질다양성;지질보전;지질관광;위치정보;세계자연유산;</td>\n",
       "      <td>환경정책연구</td>\n",
       "      <td>JA</td>\n",
       "      <td>지리 정보 활용 한국 지질 유산 정보 구축 관리 방안 제시</td>\n",
       "    </tr>\n",
       "  </tbody>\n",
       "</table>\n",
       "</div>"
      ],
      "text/plain": [
       "                                                   title  \\\n",
       "JAKO201505040785309      낙동강 유역의 친환경 하천 준설을 위한 환경창 수립 방안   \n",
       "JAKO201505040785312       쿠르노 경쟁하의 배출권 이월 및 차입과 감축기술개발투자   \n",
       "JAKO201505040785314  지리정보를 활용한 한국의 지질유산 정보화 구축 및 관리방안 제시   \n",
       "\n",
       "                                                              abstract  \\\n",
       "JAKO201505040785309  국내의 하천 환경은 4대강 사업 이후로 많은 변화가 예상되며, 이 과정에서 하천관리...   \n",
       "JAKO201505040785312  배출권 이월 및 차입은 감축기술개발투자에 영향을 미칠 수 있다. 배출권거래제하에서 ...   \n",
       "JAKO201505040785314  국내외으로 지질유산에 대한 관심과 선정 등이 지속적으로 이루어지고 있다. 그러나 지...   \n",
       "\n",
       "                                                              keywords  \\\n",
       "JAKO201505040785309                           하천준설;환경준설;환경창;준설시기;준설기간;   \n",
       "JAKO201505040785312  쿠르노 경쟁모델;불완전경쟁;기술개발;배출권거래제;경제학문헌목록 주제분류 : L13,...   \n",
       "JAKO201505040785314                       지질다양성;지질보전;지질관광;위치정보;세계자연유산;   \n",
       "\n",
       "                    journal type                          title_nn  \n",
       "JAKO201505040785309  환경정책연구   JA       낙동강 유역 친환경 하천 준설 환경 창 수립 방안  \n",
       "JAKO201505040785312  환경정책연구   JA       쿠르노 경쟁 배출 이월 차입 감축 기술 개발 투자  \n",
       "JAKO201505040785314  환경정책연구   JA  지리 정보 활용 한국 지질 유산 정보 구축 관리 방안 제시  "
      ]
     },
     "execution_count": 13,
     "metadata": {},
     "output_type": "execute_result"
    }
   ],
   "source": [
    "df.tail(3)"
   ]
  },
  {
   "cell_type": "markdown",
   "id": "26c36c19-854e-4c48-9589-b029c3b4cb0b",
   "metadata": {},
   "source": [
    "## 키워드(Keyword) 전처리\n",
    "\n",
    "**전처리 방향**\n",
    "- ; 또는 , 기준 분리\n",
    "- 한글 명사, 외국어, 숫자 추출 (특수문자 제거)\n",
    "- 한글과 영어가 붙어있는 단어 분리"
   ]
  },
  {
   "cell_type": "code",
   "execution_count": 17,
   "id": "1324ad05-56b5-43c4-8dc3-643c3ebc0a87",
   "metadata": {},
   "outputs": [
    {
     "data": {
      "text/html": [
       "<div>\n",
       "<style scoped>\n",
       "    .dataframe tbody tr th:only-of-type {\n",
       "        vertical-align: middle;\n",
       "    }\n",
       "\n",
       "    .dataframe tbody tr th {\n",
       "        vertical-align: top;\n",
       "    }\n",
       "\n",
       "    .dataframe thead th {\n",
       "        text-align: right;\n",
       "    }\n",
       "</style>\n",
       "<table border=\"1\" class=\"dataframe\">\n",
       "  <thead>\n",
       "    <tr style=\"text-align: right;\">\n",
       "      <th></th>\n",
       "      <th>title</th>\n",
       "      <th>abstract</th>\n",
       "      <th>keywords</th>\n",
       "      <th>journal</th>\n",
       "      <th>type</th>\n",
       "      <th>title_nn</th>\n",
       "      <th>keyword</th>\n",
       "    </tr>\n",
       "  </thead>\n",
       "  <tbody>\n",
       "    <tr>\n",
       "      <th>JAKO200622234005936</th>\n",
       "      <td>AHP 기법을 활용한 CRM 평가요소의 상대적 중요도 분석</td>\n",
       "      <td>고객관계관리(CRM)의 전략적 중요성이 증대함에 따라 CRM에 대한 성과평가가 최근...</td>\n",
       "      <td>성과평가;고객관계관리;</td>\n",
       "      <td>CRM연구</td>\n",
       "      <td>JA</td>\n",
       "      <td>ahp 기법 활용 crm 평가 요소 상대 중요 분석</td>\n",
       "      <td>성과평가 고객관계관리</td>\n",
       "    </tr>\n",
       "    <tr>\n",
       "      <th>JAKO200622234005941</th>\n",
       "      <td>인터넷 오픈마켓 거래안전 요인과 소비자신뢰의 관계 연구</td>\n",
       "      <td>본 연구는 우리나라 전자상거래 업계에서 새로운 업태로 급격하게 성장하고 있는 인터넷...</td>\n",
       "      <td>인터넷오픈마켓;소비자신뢰;소비자만족;거래위험;</td>\n",
       "      <td>CRM연구</td>\n",
       "      <td>JA</td>\n",
       "      <td>인터넷 오픈 마켓 거래 안전 요인 소비자 신뢰 관계 연구</td>\n",
       "      <td>인터넷오픈마켓 소비자신뢰 소비자만족 거래위험</td>\n",
       "    </tr>\n",
       "    <tr>\n",
       "      <th>JAKO200622234005947</th>\n",
       "      <td>시스템 다이내믹스를 활용한 정보 기술 수용에 대한 동태적 모형 개발 - 휴대 전화 ...</td>\n",
       "      <td>기존의 초기 기술 수용 모델(TAM)과 후기 기술 수용 모델(PAM)을 사용한 연구...</td>\n",
       "      <td>시스템 다이내믹스;휴대 전화;</td>\n",
       "      <td>CRM연구</td>\n",
       "      <td>JA</td>\n",
       "      <td>시스템 다이내믹스 활용 정보 기술 수용 동태 모형 개발 휴대 전화 사용 중심</td>\n",
       "      <td>시스템 다이내믹스 휴대 전화</td>\n",
       "    </tr>\n",
       "  </tbody>\n",
       "</table>\n",
       "</div>"
      ],
      "text/plain": [
       "                                                                 title  \\\n",
       "JAKO200622234005936                   AHP 기법을 활용한 CRM 평가요소의 상대적 중요도 분석   \n",
       "JAKO200622234005941                     인터넷 오픈마켓 거래안전 요인과 소비자신뢰의 관계 연구   \n",
       "JAKO200622234005947  시스템 다이내믹스를 활용한 정보 기술 수용에 대한 동태적 모형 개발 - 휴대 전화 ...   \n",
       "\n",
       "                                                              abstract  \\\n",
       "JAKO200622234005936  고객관계관리(CRM)의 전략적 중요성이 증대함에 따라 CRM에 대한 성과평가가 최근...   \n",
       "JAKO200622234005941  본 연구는 우리나라 전자상거래 업계에서 새로운 업태로 급격하게 성장하고 있는 인터넷...   \n",
       "JAKO200622234005947  기존의 초기 기술 수용 모델(TAM)과 후기 기술 수용 모델(PAM)을 사용한 연구...   \n",
       "\n",
       "                                      keywords journal type  \\\n",
       "JAKO200622234005936               성과평가;고객관계관리;   CRM연구   JA   \n",
       "JAKO200622234005941  인터넷오픈마켓;소비자신뢰;소비자만족;거래위험;   CRM연구   JA   \n",
       "JAKO200622234005947           시스템 다이내믹스;휴대 전화;   CRM연구   JA   \n",
       "\n",
       "                                                       title_nn  \\\n",
       "JAKO200622234005936                ahp 기법 활용 crm 평가 요소 상대 중요 분석   \n",
       "JAKO200622234005941             인터넷 오픈 마켓 거래 안전 요인 소비자 신뢰 관계 연구   \n",
       "JAKO200622234005947  시스템 다이내믹스 활용 정보 기술 수용 동태 모형 개발 휴대 전화 사용 중심   \n",
       "\n",
       "                                      keyword  \n",
       "JAKO200622234005936               성과평가 고객관계관리  \n",
       "JAKO200622234005941  인터넷오픈마켓 소비자신뢰 소비자만족 거래위험  \n",
       "JAKO200622234005947           시스템 다이내믹스 휴대 전화  "
      ]
     },
     "execution_count": 17,
     "metadata": {},
     "output_type": "execute_result"
    }
   ],
   "source": [
    "# keywords 처리\n",
    "# keywords ';' 기준 분리, 한글 명사/외국어(영어 등)/숫자 추출, (특수문자 제거로 인해 발생한) dobule space 제거\n",
    "\n",
    "# ';' 또는 ',' 로 keywords 분리 (',' 로 구분 된 keywords 값도 있음)\n",
    "def try_split(keywords):\n",
    "    if keywords.find(';') == -1:\n",
    "        kw_split = [x for x in keywords.split(',') if x != ''] # 마지막 element로 ''이 생성 될 수 있기 때문\n",
    "        return kw_split\n",
    "    else:\n",
    "        kw_split = [x for x in keywords.split(';') if x != '']\n",
    "        return kw_split\n",
    "\n",
    "# 한 어절에서 영어와 한글을 분리하는 함수\n",
    "# 숫자와 한글이 붙어있는 경우는 '2단계','3차원' 등의 그 자체로 중요한 용어\n",
    "# 하지만 영어와 한글이 붙어있는 경우는  'f nucleatum속'처럼 분리를 해야 중요한 용어로 활용할 수 있을 것으로 보임 -> 'f nucleatum 속'\n",
    "def separate_eng_kor(text_in_kw):\n",
    "    splitted_word_segments = list()\n",
    "    for each_word_seg in text_in_kw:\n",
    "        kor_exist = False\n",
    "        eng_exist = False\n",
    "        temp_list = list()\n",
    "        # 한 어절을 품사 태깅된 형태소로 분류하여 반환\n",
    "        text_pos_list = mecab.pos(each_word_seg)\n",
    "        # 한 어절의 분류된 형태소별 영어-한글 여부 확인\n",
    "        for text, pos in text_pos_list:\n",
    "            # 해당 형태소가 NNG 또는 NNP면 한글을 의미\n",
    "            if pos in ('NNG','NNP'):\n",
    "                kor_exist = True\n",
    "                temp_list.append(text.strip().lower())\n",
    "            # 해당 형태소가 SL이면 영어를 의미\n",
    "            elif pos == 'SL':\n",
    "                eng_exist = True\n",
    "                temp_list.append(text.strip().lower())\n",
    "        # 하나의 어절에 한글과 영어가 모두 있다면, 한글과 영어가 붙어있음을 의미하며, 사이를 띄워서 반환\n",
    "        if kor_exist and eng_exist:\n",
    "            result_text = ' '.join(temp_list)\n",
    "        # 아니라면, 해당 어절 그대로 반환\n",
    "        else:\n",
    "            result_text = each_word_seg\n",
    "        splitted_word_segments.append(result_text)\n",
    "    return ' '.join(splitted_word_segments)\n",
    "\n",
    "# 중요한 단어를 의미하는 'keyword'라는 특성을 고려하여, 하나의 text로 된 keyword가 쪼개지지 않도록, keyword 처리시엔 mecab 형태소 분석 X\n",
    "# 단, 영어와 한글이 붙어있는 경우는 분리하고, 숫자와 한글/영어가 붙어있는 경우엔 그대로 유지\n",
    "def extract_keyword(keywords):\n",
    "    keyword_list = [separate_eng_kor(re.sub(r'[^\\w\\s]',' ',keyword).strip().replace('   ', ' ').replace('  ', ' ').split(' ')).lower() for keyword in try_split(keywords)] # 특수문자 제거\n",
    "    #keyword_list = list(dict.fromkeys(keyword_list).keys()) # 처리한 키워드 내에서 중복 제거\n",
    "    keyword_res = ' '.join(keyword_list).replace('   ', ' ').replace('  ', ' ') # 문자열 결합\n",
    "    return keyword_res\n",
    "\n",
    "mecab = Mecab()\n",
    "workers = os.cpu_count() * 2\n",
    "\n",
    "Parallel(n_jobs=workers)(delayed(extract_keyword)(keywords) for keywords in df['keywords'])\n",
    "\n",
    "df['keyword'] = Parallel(n_jobs=workers)(delayed(extract_keyword)(keywords) for keywords in df['keywords'])\n",
    "df.head(3)"
   ]
  },
  {
   "cell_type": "code",
   "execution_count": 18,
   "id": "b379fd77-61d1-48ac-868d-930f063f65a0",
   "metadata": {},
   "outputs": [
    {
     "data": {
      "text/html": [
       "<div>\n",
       "<style scoped>\n",
       "    .dataframe tbody tr th:only-of-type {\n",
       "        vertical-align: middle;\n",
       "    }\n",
       "\n",
       "    .dataframe tbody tr th {\n",
       "        vertical-align: top;\n",
       "    }\n",
       "\n",
       "    .dataframe thead th {\n",
       "        text-align: right;\n",
       "    }\n",
       "</style>\n",
       "<table border=\"1\" class=\"dataframe\">\n",
       "  <thead>\n",
       "    <tr style=\"text-align: right;\">\n",
       "      <th></th>\n",
       "      <th>title</th>\n",
       "      <th>abstract</th>\n",
       "      <th>keywords</th>\n",
       "      <th>journal</th>\n",
       "      <th>type</th>\n",
       "      <th>title_nn</th>\n",
       "      <th>keyword</th>\n",
       "    </tr>\n",
       "  </thead>\n",
       "  <tbody>\n",
       "    <tr>\n",
       "      <th>JAKO201505040785309</th>\n",
       "      <td>낙동강 유역의 친환경 하천 준설을 위한 환경창 수립 방안</td>\n",
       "      <td>국내의 하천 환경은 4대강 사업 이후로 많은 변화가 예상되며, 이 과정에서 하천관리...</td>\n",
       "      <td>하천준설;환경준설;환경창;준설시기;준설기간;</td>\n",
       "      <td>환경정책연구</td>\n",
       "      <td>JA</td>\n",
       "      <td>낙동강 유역 친환경 하천 준설 환경 창 수립 방안</td>\n",
       "      <td>하천준설 환경준설 환경창 준설시기 준설기간</td>\n",
       "    </tr>\n",
       "    <tr>\n",
       "      <th>JAKO201505040785312</th>\n",
       "      <td>쿠르노 경쟁하의 배출권 이월 및 차입과 감축기술개발투자</td>\n",
       "      <td>배출권 이월 및 차입은 감축기술개발투자에 영향을 미칠 수 있다. 배출권거래제하에서 ...</td>\n",
       "      <td>쿠르노 경쟁모델;불완전경쟁;기술개발;배출권거래제;경제학문헌목록 주제분류 : L13,...</td>\n",
       "      <td>환경정책연구</td>\n",
       "      <td>JA</td>\n",
       "      <td>쿠르노 경쟁 배출 이월 차입 감축 기술 개발 투자</td>\n",
       "      <td>쿠르노 경쟁모델 불완전경쟁 기술개발 배출권거래제 경제학문헌목록 주제분류 l13 l5...</td>\n",
       "    </tr>\n",
       "    <tr>\n",
       "      <th>JAKO201505040785314</th>\n",
       "      <td>지리정보를 활용한 한국의 지질유산 정보화 구축 및 관리방안 제시</td>\n",
       "      <td>국내외으로 지질유산에 대한 관심과 선정 등이 지속적으로 이루어지고 있다. 그러나 지...</td>\n",
       "      <td>지질다양성;지질보전;지질관광;위치정보;세계자연유산;</td>\n",
       "      <td>환경정책연구</td>\n",
       "      <td>JA</td>\n",
       "      <td>지리 정보 활용 한국 지질 유산 정보 구축 관리 방안 제시</td>\n",
       "      <td>지질다양성 지질보전 지질관광 위치정보 세계자연유산</td>\n",
       "    </tr>\n",
       "  </tbody>\n",
       "</table>\n",
       "</div>"
      ],
      "text/plain": [
       "                                                   title  \\\n",
       "JAKO201505040785309      낙동강 유역의 친환경 하천 준설을 위한 환경창 수립 방안   \n",
       "JAKO201505040785312       쿠르노 경쟁하의 배출권 이월 및 차입과 감축기술개발투자   \n",
       "JAKO201505040785314  지리정보를 활용한 한국의 지질유산 정보화 구축 및 관리방안 제시   \n",
       "\n",
       "                                                              abstract  \\\n",
       "JAKO201505040785309  국내의 하천 환경은 4대강 사업 이후로 많은 변화가 예상되며, 이 과정에서 하천관리...   \n",
       "JAKO201505040785312  배출권 이월 및 차입은 감축기술개발투자에 영향을 미칠 수 있다. 배출권거래제하에서 ...   \n",
       "JAKO201505040785314  국내외으로 지질유산에 대한 관심과 선정 등이 지속적으로 이루어지고 있다. 그러나 지...   \n",
       "\n",
       "                                                              keywords  \\\n",
       "JAKO201505040785309                           하천준설;환경준설;환경창;준설시기;준설기간;   \n",
       "JAKO201505040785312  쿠르노 경쟁모델;불완전경쟁;기술개발;배출권거래제;경제학문헌목록 주제분류 : L13,...   \n",
       "JAKO201505040785314                       지질다양성;지질보전;지질관광;위치정보;세계자연유산;   \n",
       "\n",
       "                    journal type                          title_nn  \\\n",
       "JAKO201505040785309  환경정책연구   JA       낙동강 유역 친환경 하천 준설 환경 창 수립 방안   \n",
       "JAKO201505040785312  환경정책연구   JA       쿠르노 경쟁 배출 이월 차입 감축 기술 개발 투자   \n",
       "JAKO201505040785314  환경정책연구   JA  지리 정보 활용 한국 지질 유산 정보 구축 관리 방안 제시   \n",
       "\n",
       "                                                               keyword  \n",
       "JAKO201505040785309                            하천준설 환경준설 환경창 준설시기 준설기간  \n",
       "JAKO201505040785312  쿠르노 경쟁모델 불완전경쟁 기술개발 배출권거래제 경제학문헌목록 주제분류 l13 l5...  \n",
       "JAKO201505040785314                        지질다양성 지질보전 지질관광 위치정보 세계자연유산  "
      ]
     },
     "execution_count": 18,
     "metadata": {},
     "output_type": "execute_result"
    }
   ],
   "source": [
    "df.tail(3)"
   ]
  },
  {
   "cell_type": "code",
   "execution_count": null,
   "id": "ae963719-3538-4da4-8d19-9d863f8e44b3",
   "metadata": {},
   "outputs": [],
   "source": [
    "# 전처리한 데이터(dataframe) 저장\n",
    "# df.to_csv('./data/df_prep.csv')"
   ]
  },
  {
   "cell_type": "markdown",
   "id": "a14fdd6c-6dc9-42fe-bb32-db391200237c",
   "metadata": {
    "tags": []
   },
   "source": [
    "---\n",
    "# Train/Test 분리\n",
    "1) 전처리 완료된 데이터셋 train / test 분리 \n",
    "    - train:test = 9:1\n",
    "    - random seed = 777\n",
    "    - stratify by = 'journal'\n",
    "2) SBERT 임베딩 벡터 train / test 분리"
   ]
  },
  {
   "cell_type": "code",
   "execution_count": null,
   "id": "f6aab6dc-d04a-48ca-849f-9efe63c01ab4",
   "metadata": {},
   "outputs": [
    {
     "name": "stdout",
     "output_type": "stream",
     "text": [
      "(92763, 5)\n",
      "(10307, 5)\n"
     ]
    }
   ],
   "source": [
    "# train/test 분리\n",
    "\n",
    "from sklearn.model_selection import train_test_split\n",
    "\n",
    "train, test = train_test_split(df, test_size=0.1, random_state=777, stratify=df['journal']) # journal 기준 stratify\n",
    "print(train.shape)\n",
    "print(test.shape)"
   ]
  },
  {
   "cell_type": "code",
   "execution_count": null,
   "id": "3aba6f7f-2d9b-4f12-b40d-9a1d9210a868",
   "metadata": {},
   "outputs": [],
   "source": [
    "# train, test 데이터 csv 저장\n",
    "# train.to_csv('./data/train.csv')\n",
    "# test.to_csv('./data/test.csv')"
   ]
  },
  {
   "cell_type": "code",
   "execution_count": null,
   "id": "1320ce14-4942-497c-9aef-1aba48f971a7",
   "metadata": {},
   "outputs": [],
   "source": [
    "# SBERT 임베딩 벡터 train/test 분리\n",
    "\n",
    "# 위 기존 데이터의 document id - index 매핑된 정보에서 현재 분석에서 사용하는 데이터의 document id - index만 필터링\n",
    "id_index_kept = old_id_index[df.index]\n",
    "\n",
    "# 현재 사용중인 (전처리 완료한) 데이터에서 Document id - Index 매핑\n",
    "all_id_index = pd.Series(range(len(df)), index=df.index)\n",
    "\n",
    "# 전체 데이터셋 기준 train, test 데이터 index 위치 저장 : document id - index 매핑\n",
    "## train, test 데이터별 SBERT embedding vectors 추출용 (SBERT Embedding은 데이터 전체로 되어 있기 때문)\n",
    "train_id_index_whole = all_id_index[train.index] # (doc_id, index)[doc_id]\n",
    "test_id_index_whole = all_id_index[test.index]\n",
    "\n",
    "# 데이터 전처리 과정에서 제거한 데이터/index를 SBERT embedding matrix에서도 제거\n",
    "# 이를 위해, 전처리간 삭제한 데이터의 document id -- index를 뺀 정보를 저장한 변수를 활용\n",
    "embed = embed[id_index_kept.values] # 삭제한 데이터의 index에 해당하는 데이터 빼고 임베딩 matrix 저장\n",
    "\n",
    "# train data의 embedding vectors 추출\n",
    "# train 데이터의 document id에 해당하는 index를 사용해 동일한 index 위치의 embedding vectors만 필터링\n",
    "train_embed = embed[train_id_index_whole.values]\n",
    "\n",
    "# test data의 embedding vectors 추출\n",
    "# test 데이터의 document id에 해당하는 index를 사용해 동일한 index 위치의 embedding vectors만 필터링\n",
    "test_embed = embed[test_id_index_whole.values]"
   ]
  },
  {
   "cell_type": "code",
   "execution_count": 208,
   "id": "40a2be89-5b28-40de-b9b9-157b47100e37",
   "metadata": {},
   "outputs": [],
   "source": [
    "# train embedding numpy 배열 파일로 저장\n",
    "# np.save('./data/train_embed', train_embed)\n",
    "# np.save('./data/test_embed', test_embed)\n",
    "\n",
    "# train embedding npy 파일 다시 읽기\n",
    "# train_embed = np.load('./data/train_embed.npy')\n",
    "# test_embed = np.load('./data/test_embed.npy')"
   ]
  },
  {
   "cell_type": "markdown",
   "id": "6b08f363-dfa6-44bb-a2bf-79f6a38d6ff0",
   "metadata": {},
   "source": [
    "---\n",
    "# Train 데이터에서 필요한 변수 선언\n",
    "- **이후 모델링 과정에서 불러와서 사용**"
   ]
  },
  {
   "cell_type": "code",
   "execution_count": 3,
   "id": "b6706538-ffaa-48ea-bf6f-d6e988a5df81",
   "metadata": {},
   "outputs": [
    {
     "name": "stdout",
     "output_type": "stream",
     "text": [
      "(92760, 7)\n",
      "(92760,)\n",
      "92760\n",
      "(92760, 768)\n"
     ]
    }
   ],
   "source": [
    "# 전처리한 train 데이터(dataframe) 다시 읽어오기\n",
    "# train = pd.read_csv('./data/train.csv', index_col=0)\n",
    "print(train.shape)\n",
    "\n",
    "# Train y \n",
    "train_y = train['journal'] # Train 데이터 doc id - journal\n",
    "print(train_y.shape)\n",
    "\n",
    "# train doc id - index : Train 데이터셋 기준 각 document id - index 매핑 (데이터셋에서의 위치)\n",
    "train_id_index = pd.Series(range(len(train.index)), index=train.index)\n",
    "print(len(train_id_index))\n",
    "\n",
    "# Train SBERT embedding\n",
    "# train_embed = np.load('./data/train_embed.npy')\n",
    "print(train_embed.shape)"
   ]
  },
  {
   "cell_type": "code",
   "execution_count": 92,
   "id": "acea10dd-f087-463e-b564-8d63c88867eb",
   "metadata": {},
   "outputs": [
    {
     "name": "stdout",
     "output_type": "stream",
     "text": [
      "journal\n",
      "CRM연구                                                      0\n",
      "Child Health Nursing Research                              1\n",
      "Clinical and Experimental Reproductive Medicine            2\n",
      "Clinics in Shoulder and Elbow                              3\n",
      "Communications for Statistical Applications and Methods    4\n",
      "dtype: int64\n",
      "journal\n",
      "해양환경안전학회지    263\n",
      "혜화의학회지       264\n",
      "화약ㆍ발파        265\n",
      "환경영향평가       266\n",
      "환경정책연구       267\n",
      "dtype: int64\n"
     ]
    }
   ],
   "source": [
    "# 저널명 - Index 매핑  (저널 고정 순서)\n",
    "journ_order = train.groupby('journal').groups.keys()\n",
    "journ_index = pd.Series(range(len(journ_order)), index=journ_order)\n",
    "\n",
    "print(journ_index[:5])\n",
    "print(journ_index[-5:])"
   ]
  },
  {
   "cell_type": "markdown",
   "id": "4eed21ca-5047-418b-a7de-a03e8e76f605",
   "metadata": {},
   "source": [
    "# Train 데이터의 JTM & JKM 생성\n",
    "- 저널별 Title 텍스트 매트릭스 생성\n",
    "- 저널별 Keyword 텍스트 매트릭스 생성"
   ]
  },
  {
   "cell_type": "code",
   "execution_count": 4,
   "id": "23b90ffa-c35d-412f-a981-7fb505e7c1f8",
   "metadata": {},
   "outputs": [
    {
     "name": "stdout",
     "output_type": "stream",
     "text": [
      "(268, 43041)\n",
      "(268, 135402)\n"
     ]
    }
   ],
   "source": [
    "from sklearn.feature_extraction.text import CountVectorizer\n",
    "\n",
    "# Journal-Title Matrix (JTM)\n",
    "# journal별 title CountVectorize\n",
    "train_journ_tt = train.groupby('journal')['title_nn'].apply(' '.join) # journal별로 모든 논문들 title text 합치기\n",
    "count_vect_tt = CountVectorizer(min_df=1, ngram_range=(1,1)) # unigram\n",
    "jtm = count_vect_tt.fit_transform(train_journ_tt) # sparse matrix\n",
    "print(jtm.shape)\n",
    "\n",
    "# csr matrix -> dataframe\n",
    "# jtm_df = pd.DataFrame(jtm.toarray(), index=train_journ_tt.index, columns=count_vect_tt.get_feature_names_out())\n",
    "\n",
    "# ================================================= #\n",
    "# Journal-Keyword Matrix (JKM)\n",
    "# journal별 keyword CountVectorize\n",
    "train_journ_kw = train.groupby('journal')['keyword'].apply(' '.join) # journal별로 모든 논문들 keyword text 합치기\n",
    "count_vect_kw = CountVectorizer(min_df=1, ngram_range=(1,1)) # unigram\n",
    "jkm = count_vect_kw.fit_transform(train_journ_kw) # sparse matrix\n",
    "print(jkm.shape)\n",
    "\n",
    "# csr matrix -> dataframe\n",
    "# jkm_df = pd.DataFrame(jkm.toarray(), index=train_journ_kw.index, columns=count_vect_kw.get_feature_names_out())"
   ]
  },
  {
   "cell_type": "markdown",
   "id": "38e09069-562a-4d18-a3ae-b2a774350e59",
   "metadata": {},
   "source": [
    "---\n",
    "# Test 데이터에서 필요한 변수 선언\n",
    "- **이후 모델링 과정에서 불러와서 사용**"
   ]
  },
  {
   "cell_type": "code",
   "execution_count": 264,
   "id": "80270365-0405-47ce-b147-02d4638c7914",
   "metadata": {},
   "outputs": [
    {
     "name": "stdout",
     "output_type": "stream",
     "text": [
      "(10307, 7)\n",
      "(10307,)\n",
      "10307\n",
      "(10307, 768)\n"
     ]
    }
   ],
   "source": [
    "# 전처리한 test 데이터(dataframe) 다시 읽어오기\n",
    "# test = pd.read_csv('./data/test.csv', index_col=0)\n",
    "print(test.shape)\n",
    "\n",
    "# Test y\n",
    "test_y = test['journal'] # Test 데이터 document id - journal\n",
    "print(test_y.shape)\n",
    "\n",
    "# Test 데이터셋 기준 document id - index 매핑 (데이터셋에서의 위치)\n",
    "test_id_index = pd.Series(range(len(test.index)), index=test.index)\n",
    "print(len(test_id_index))\n",
    "\n",
    "# Test SBERT embedding npy 파일 다시 읽기\n",
    "# test_embed = np.load('./data/test_embed.npy')\n",
    "print(test_embed.shape)"
   ]
  },
  {
   "cell_type": "code",
   "execution_count": null,
   "id": "07aa23f0-c06b-439c-b670-0e4d7d01199c",
   "metadata": {},
   "outputs": [],
   "source": []
  }
 ],
 "metadata": {
  "kernelspec": {
   "display_name": "Python 3 (ipykernel)",
   "language": "python",
   "name": "python3"
  },
  "language_info": {
   "codemirror_mode": {
    "name": "ipython",
    "version": 3
   },
   "file_extension": ".py",
   "mimetype": "text/x-python",
   "name": "python",
   "nbconvert_exporter": "python",
   "pygments_lexer": "ipython3",
   "version": "3.10.11"
  }
 },
 "nbformat": 4,
 "nbformat_minor": 5
}
