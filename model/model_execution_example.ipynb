{
 "cells": [
  {
   "cell_type": "markdown",
   "id": "5aa38167-d5fd-4b48-b212-a5aa708e85e9",
   "metadata": {},
   "source": [
    "# 저널추천"
   ]
  },
  {
   "cell_type": "markdown",
   "id": "dfc55eab-9e65-40df-b0a9-3ec812600f21",
   "metadata": {},
   "source": [
    "# 세팅"
   ]
  },
  {
   "cell_type": "code",
   "execution_count": 6,
   "id": "558f78bb-b332-4b35-8b14-2f8e512f78d2",
   "metadata": {
    "tags": []
   },
   "outputs": [],
   "source": [
    "# setting path\n",
    "import sys\n",
    "sys.path.append('..') # parent directory 경로 추가\n",
    "\n",
    "# import stuff\n",
    "# from common import *\n",
    "from my import *\n",
    "\n",
    "# %matplotlib inline\n",
    "# %config InlineBackend.figure_format='retina'\n",
    "\n",
    "# set seed\n",
    "import numpy as np\n",
    "import os, random\n",
    "def set_seeds(seed):\n",
    "    os.environ['PYTHONHASHSEED'] = str(seed)\n",
    "    random.seed(seed)\n",
    "    np.random.seed(seed)\n",
    "#     tf.random.set_seed(seed) # Tensorflow 사용시 \n",
    "SEED = 777\n",
    "set_seeds(SEED)"
   ]
  },
  {
   "cell_type": "code",
   "execution_count": 3,
   "id": "00e3aacb-c81c-4fa5-843e-d9fc5b155c4a",
   "metadata": {},
   "outputs": [
    {
     "name": "stdout",
     "output_type": "stream",
     "text": [
      "Journal: (268,)\n",
      "[Train] Abstract embedded: (92760, 768)\n",
      "[Train] JTM: (268, 43041)\n",
      "[Train] JKM: (268, 135402)\n"
     ]
    }
   ],
   "source": [
    "%load_ext autoreload\n",
    "%autoreload 1\n",
    "%aimport model"
   ]
  },
  {
   "cell_type": "markdown",
   "id": "e166ca23-a651-44ed-a09f-3d1b58f36ff9",
   "metadata": {},
   "source": [
    "# Top-K 저널 추천"
   ]
  },
  {
   "cell_type": "code",
   "execution_count": 4,
   "id": "f96acf91-8681-4e3d-a564-c82763c19dae",
   "metadata": {},
   "outputs": [],
   "source": [
    "# Abstract, Title, Keyword 입력\n",
    "sentences = '전자 저널의 발전과 다양한 융복합 연구들이 생겨나면서 연구를 게시할 저널의 선택은 신진 연구자들은 물론 기존 연구자들에게도 새로운 문제로 떠올랐다. 논문의 수준이 높더라도 논문의 주제와 저널 범위의 불일치로 인해 게재가 거부될 수 있기 때문이다. 이러한 문제를 해결하기 위해 연구자의 저널 선정을 돕기 위한 연구는 영문 저널을 대상으로는 활발하게 이루어졌으나 한국어 저널을 대상으로 한 연구는 그렇지 못한 실정이다. 본 연구에서는 한국어 저널을 대상으로 투고할 저널을 추천하는 시스템을 제시한다. 과거 저널에 게재된 논문들의 초록을 SBERT(Sentence BERT)를 이용하여 문서 단위로 임베딩하고 새로운 문서와 기존 게재논문의 유사도를 비교하여 저널을 추천하는 것이다. 초록의 유사도 여부, 키워드 일치 여부, 제목 유사성을 고려하여 추천할 저널의 순서가 결정되고, 마지막 단계에서는 저널별로 구축된 단어 사전을 이용하여 선순위 추천 저널과 유사한 저널을 찾아 추천 리스트에 추가하여 추천 다양성을 높인다. 이러한 방식으로 구축된 추천 시스템을 평가한 결과 Top-10 정확도 76.3% 수준으로 평가되었다. 또한, 제안된 프레임워크의 각 단계가 추천 정확도를 높이는 데에 도움이 된다는 결과를 확인하였다. 본 연구는 그 동안 활발히 이루어지지 않았던 국문 학술지 추천에 대한 새로운 접근을 제시한다는 점에서 학술적 의의가 있으며, 제안된 기능을 문서와 저널 보유상태에 따라 변경하여 손쉽게 서비스에 적용할 수 있다는 점에서 실무적인 의의를 가진다.'\n",
    "title = 'Sentence BERT를 이용한 내용 기반 국문 저널 추천 시스템'\n",
    "keywords = '딥러닝, 문서유사도, 추천시스템, 논문, SBERT'\n",
    "\n",
    "# 몇 개의 저널을 추천받을지 입력\n",
    "K = 3"
   ]
  },
  {
   "cell_type": "code",
   "execution_count": 5,
   "id": "18bbb245-21bb-453b-ac55-48f1cb14e3da",
   "metadata": {},
   "outputs": [
    {
     "name": "stdout",
     "output_type": "stream",
     "text": [
      "[Test] Abstract embedded: (1, 768)\n",
      "[Test] Title preprocessed: sentence bert 이용 내용 기반 국문 저널 추천 시스템\n",
      "[Test] Keyword preprocessed: 딥러닝 문서유사도 추천시스템 논문 sbert\n",
      "\n",
      "Top-3 journals recommended\n",
      "['지능정보연구', '한국전자거래학회지', '인터넷정보학회논문지']\n"
     ]
    }
   ],
   "source": [
    "# 저널 추천 실행\n",
    "model.recommend_journals(sentences, title, keywords, K)"
   ]
  },
  {
   "cell_type": "code",
   "execution_count": null,
   "id": "46da660f-8e0e-449f-a1e6-0afecceb77ae",
   "metadata": {},
   "outputs": [],
   "source": []
  },
  {
   "cell_type": "markdown",
   "id": "3c71c41d-a4c1-49ad-ab4d-359ef81a2803",
   "metadata": {},
   "source": [
    "# 끝"
   ]
  }
 ],
 "metadata": {
  "kernelspec": {
   "display_name": "Python 3 (ipykernel)",
   "language": "python",
   "name": "python3"
  },
  "language_info": {
   "codemirror_mode": {
    "name": "ipython",
    "version": 3
   },
   "file_extension": ".py",
   "mimetype": "text/x-python",
   "name": "python",
   "nbconvert_exporter": "python",
   "pygments_lexer": "ipython3",
   "version": "3.10.11"
  }
 },
 "nbformat": 4,
 "nbformat_minor": 5
}
